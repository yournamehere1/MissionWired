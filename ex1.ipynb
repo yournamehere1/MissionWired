{
 "cells": [
  {
   "cell_type": "code",
   "execution_count": 8,
   "metadata": {},
   "outputs": [],
   "source": [
    "import pandas as pd"
   ]
  },
  {
   "cell_type": "markdown",
   "metadata": {},
   "source": [
    "Step One: Load Data"
   ]
  },
  {
   "cell_type": "code",
   "execution_count": 35,
   "metadata": {},
   "outputs": [],
   "source": [
    "## Load constituent file\n",
    "condata = pd.read_csv(\"/Users/yohanesmulat/Downloads/cons.csv\")\n",
    "condata.columns"
   ]
  },
  {
   "cell_type": "code",
   "execution_count": 34,
   "metadata": {},
   "outputs": [],
   "source": [
    "## Load the email file\n",
    "emdata = pd.read_csv(\"/Users/yohanesmulat/Downloads/cons_email.csv\")\n",
    "emdata.columns"
   ]
  },
  {
   "cell_type": "code",
   "execution_count": 37,
   "metadata": {},
   "outputs": [],
   "source": [
    "## Load email subscription file\n",
    "subdata = pd.read_csv(\"/Users/yohanesmulat/Downloads/cons_email_chapter_subscription.csv\")\n",
    "subdata.columns"
   ]
  },
  {
   "cell_type": "markdown",
   "metadata": {},
   "source": [
    "Step Two: Merge \n",
    "    - Merge Email file and email subscription file using \"cons_email_id\" as a bridge between the two files\n",
    "    - Isolate the necessary column names\n",
    "    - select only where email address is primary and chapter id is 1"
   ]
  },
  {
   "cell_type": "code",
   "execution_count": null,
   "metadata": {},
   "outputs": [],
   "source": [
    "merge1 = pd.merge(\n",
    "    left=emdata[emdata[\"is_primary\"] == 1][[\"cons_email_id\", \"email\", \"cons_id\"]],\n",
    "    right=subdata[subdata[\"chapter_id\"] == 1 ][[\"cons_email_id\",\"chapter_id\", \"isunsub\"]],\n",
    "    how=\"left\",\n",
    "    on=\"cons_email_id\"    \n",
    ")\n",
    "merge1.head()"
   ]
  },
  {
   "cell_type": "markdown",
   "metadata": {},
   "source": [
    "Step Three: Merge\n",
    "    - Merge Part 1 with constituent data using \"cons_id\" as a bridge\n",
    "    - isolate for necessary columns "
   ]
  },
  {
   "cell_type": "code",
   "execution_count": null,
   "metadata": {},
   "outputs": [],
   "source": [
    "merge2 = pd.merge(\n",
    "    left=merge1,\n",
    "    right=condata[[\"cons_id\", \"source\", \"create_dt\", \"modified_dt\"]],\n",
    "    on=\"cons_id\",\n",
    "    how=\"left\"\n",
    ")\n",
    "merge2.head()"
   ]
  },
  {
   "cell_type": "markdown",
   "metadata": {},
   "source": [
    "Step 4: Clean Data"
   ]
  },
  {
   "cell_type": "code",
   "execution_count": null,
   "metadata": {},
   "outputs": [],
   "source": [
    "## fill NA for isunsub with 0\n",
    "merge2 = merge2.fillna({\"isunsub\" : 0})\n",
    "merge2.head()"
   ]
  },
  {
   "cell_type": "code",
   "execution_count": null,
   "metadata": {},
   "outputs": [],
   "source": [
    "## Reorganize columns and rename it to desired titles\n",
    "merge2 = merge2[[\"email\", \"source\", \"isunsub\", \"create_dt\", \"modified_dt\"]]\n",
    "merge2.columns=[\"email\", \"code\", \"is_unsub\", \"created_dt\", \"updated_dt\"]\n",
    "merge2.head()"
   ]
  },
  {
   "cell_type": "code",
   "execution_count": 78,
   "metadata": {},
   "outputs": [],
   "source": [
    "## Save as CSV\n",
    "merge2.to_csv(\"./people.csv\", index=False)"
   ]
  }
 ],
 "metadata": {
  "kernelspec": {
   "display_name": "Python 3.10.2 64-bit",
   "language": "python",
   "name": "python3"
  },
  "language_info": {
   "codemirror_mode": {
    "name": "ipython",
    "version": 3
   },
   "file_extension": ".py",
   "mimetype": "text/x-python",
   "name": "python",
   "nbconvert_exporter": "python",
   "pygments_lexer": "ipython3",
   "version": "3.10.2"
  },
  "orig_nbformat": 4,
  "vscode": {
   "interpreter": {
    "hash": "aee8b7b246df8f9039afb4144a1f6fd8d2ca17a180786b69acc140d282b71a49"
   }
  }
 },
 "nbformat": 4,
 "nbformat_minor": 2
}
